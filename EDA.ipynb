{
 "cells": [
  {
   "cell_type": "code",
   "execution_count": null,
   "id": "8b27c8a6-a0ca-45e0-b8ca-b678c8054868",
   "metadata": {},
   "outputs": [],
   "source": [
    "# %%\n",
    "\n",
    "import dask.dataframe as dd\n",
    "import matplotlib.pyplot as plt\n",
    "import seaborn as sns\n",
    "\n",
    "# Load the combined dataset with Dask\n",
    "file_path = \"dreamt-dataset-for-real-time-sleep-stage-estimation-using-multisensor-wearable-technology-1.0.1/combined_data_with_sids.csv\"\n",
    "combined_data = dd.read_csv(file_path)"
   ]
  },
  {
   "cell_type": "code",
   "execution_count": null,
   "id": "087b8b94-894d-4fe2-9d1c-8cc541d877bb",
   "metadata": {},
   "outputs": [
    {
     "name": "stdout",
     "output_type": "stream",
     "text": [
      "\n",
      "Dataset Overview:\n",
      "TIMESTAMP            float64\n",
      "BVP                  float64\n",
      "ACC_X                float64\n",
      "ACC_Y                float64\n",
      "ACC_Z                float64\n",
      "TEMP                 float64\n",
      "EDA                  float64\n",
      "HR                   float64\n",
      "IBI                  float64\n",
      "Sleep_Stage           object\n",
      "Obstructive_Apnea    float64\n",
      "Central_Apnea        float64\n",
      "Hypopnea             float64\n",
      "Multiple_Events      float64\n",
      "SID                   object\n",
      "dtype: object\n"
     ]
    }
   ],
   "source": [
    "# %%\n",
    "\n",
    "print(\"\\nDataset Overview:\")\n",
    "print(combined_data.dtypes)"
   ]
  },
  {
   "cell_type": "code",
   "execution_count": null,
   "id": "e902f85f-6afc-48ac-8d4e-8a4cd4cc6421",
   "metadata": {},
   "outputs": [
    {
     "name": "stdout",
     "output_type": "stream",
     "text": [
      "Number of Rows: 203531428\n",
      "Number of Columns: 15\n"
     ]
    }
   ],
   "source": [
    "#%%\n",
    "\n",
    "# Compute the number of rows and columns\n",
    "num_rows = combined_data.shape[0].compute()  # Compute the delayed row count\n",
    "num_columns = combined_data.shape[1]  \n",
    "print(f\"Number of Rows: {num_rows}\")\n",
    "print(f\"Number of Columns: {num_columns}\")"
   ]
  },
  {
   "cell_type": "code",
   "execution_count": null,
   "id": "99866beb-3892-4c48-9b78-b75575cf301d",
   "metadata": {},
   "outputs": [
    {
     "name": "stdout",
     "output_type": "stream",
     "text": [
      "\n",
      "First Few Rows:\n",
      "   TIMESTAMP    BVP  ACC_X  ACC_Y  ACC_Z   TEMP       EDA    HR  IBI  \\\n",
      "0   0.000000   4.64  -69.0   10.0    4.0  32.77  0.101213  60.0  NaN   \n",
      "1   0.015625   6.29  -69.0   10.0    4.0  32.77  0.101213  60.0  NaN   \n",
      "2   0.031250   7.86  -68.0   11.0    2.0  32.77  0.101213  60.0  NaN   \n",
      "3   0.046875   9.19  -68.0   11.0    2.0  32.77  0.101213  60.0  NaN   \n",
      "4   0.062500  10.13  -64.0   10.0    1.0  32.77  0.101213  60.0  NaN   \n",
      "\n",
      "  Sleep_Stage  Obstructive_Apnea  Central_Apnea  Hypopnea  Multiple_Events  \\\n",
      "0           P                NaN            NaN       NaN              NaN   \n",
      "1           P                NaN            NaN       NaN              NaN   \n",
      "2           P                NaN            NaN       NaN              NaN   \n",
      "3           P                NaN            NaN       NaN              NaN   \n",
      "4           P                NaN            NaN       NaN              NaN   \n",
      "\n",
      "    SID  \n",
      "0  S083  \n",
      "1  S083  \n",
      "2  S083  \n",
      "3  S083  \n",
      "4  S083  \n"
     ]
    }
   ],
   "source": [
    "#%%\n",
    "\n",
    "print(\"\\nFirst Few Rows:\")\n",
    "print(combined_data.head())"
   ]
  },
  {
   "cell_type": "code",
   "execution_count": null,
   "id": "92bd5ca4-497e-4e55-a837-84a15c67f4bb",
   "metadata": {},
   "outputs": [
    {
     "name": "stdout",
     "output_type": "stream",
     "text": [
      "Filtered Data for SID S103:\n",
      "           TIMESTAMP    BVP  ACC_X  ACC_Y  ACC_Z   TEMP       EDA     HR  \\\n",
      "127141      0.000000   6.65   13.0  -25.0   56.0  29.35  0.028186  59.00   \n",
      "127142      0.015625   0.54   13.0  -25.0   56.0  29.35  0.028186  59.00   \n",
      "127143      0.031250  -2.65   14.0  -25.0   57.0  29.35  0.028186  59.00   \n",
      "127144      0.046875  -1.64   14.0  -25.0   57.0  29.35  0.028186  59.00   \n",
      "127145      0.062500   3.38   14.0  -25.0   58.0  29.35  0.028186  59.00   \n",
      "...              ...    ...    ...    ...    ...    ...       ...    ...   \n",
      "371396  30476.937500  23.98  -36.0  -33.0   44.0  35.41  0.206269  68.28   \n",
      "371397  30476.953125  23.29  -36.0  -33.0   44.0  35.41  0.206269  68.28   \n",
      "371398  30476.968750  21.70  -36.0  -33.0   43.0  35.41  0.206269  68.28   \n",
      "371399  30476.984375  20.43  -36.0  -33.0   43.0  35.41  0.206269  68.28   \n",
      "371400  30477.000000  19.74  -36.0  -33.0   44.0  35.39  0.204988  68.23   \n",
      "\n",
      "             IBI Sleep_Stage  Obstructive_Apnea  Central_Apnea  Hypopnea  \\\n",
      "127141       NaN           P                NaN            NaN       NaN   \n",
      "127142       NaN           P                NaN            NaN       NaN   \n",
      "127143       NaN           P                NaN            NaN       NaN   \n",
      "127144       NaN           P                NaN            NaN       NaN   \n",
      "127145       NaN           P                NaN            NaN       NaN   \n",
      "...          ...         ...                ...            ...       ...   \n",
      "371396  0.890625          N2                NaN            NaN       NaN   \n",
      "371397  0.890625          N2                NaN            NaN       NaN   \n",
      "371398  0.890625          N2                NaN            NaN       NaN   \n",
      "371399  0.890625          N2                NaN            NaN       NaN   \n",
      "371400  0.890625          N1                NaN            NaN       NaN   \n",
      "\n",
      "        Multiple_Events   SID  \n",
      "127141              NaN  S103  \n",
      "127142              NaN  S103  \n",
      "127143              NaN  S103  \n",
      "127144              NaN  S103  \n",
      "127145              NaN  S103  \n",
      "...                 ...   ...  \n",
      "371396              NaN  S103  \n",
      "371397              NaN  S103  \n",
      "371398              NaN  S103  \n",
      "371399              NaN  S103  \n",
      "371400              NaN  S103  \n",
      "\n",
      "[1950529 rows x 15 columns]\n"
     ]
    }
   ],
   "source": [
    "# %%\n",
    "\n",
    "# Filter the Dask DataFrame for rows with SID == \"S103\"\n",
    "filtered_data = combined_data[combined_data[\"SID\"] == \"S103\"]\n",
    "\n",
    "# Check if the filtered_data is empty\n",
    "if filtered_data.shape[0].compute() == 0:\n",
    "    print(\"No data found for SID S103.\")\n",
    "else:\n",
    "    # Compute and convert the filtered data to pandas for inspection\n",
    "    filtered_data_pd = filtered_data.compute()\n",
    "    print(\"Filtered Data for SID S103:\")\n",
    "    print(filtered_data_pd)"
   ]
  },
  {
   "cell_type": "code",
   "execution_count": null,
   "id": "11846612-4e1b-467d-a3ca-29acd3bd7064",
   "metadata": {},
   "outputs": [
    {
     "name": "stdout",
     "output_type": "stream",
     "text": [
      "\n",
      "Missing Values:\n",
      "TIMESTAMP                    0\n",
      "BVP                          0\n",
      "ACC_X                        0\n",
      "ACC_Y                        0\n",
      "ACC_Z                        0\n",
      "TEMP                         0\n",
      "EDA                          0\n",
      "HR                           0\n",
      "IBI                    1004340\n",
      "Sleep_Stage                  0\n",
      "Obstructive_Apnea    201158891\n",
      "Central_Apnea        202187222\n",
      "Hypopnea             191715892\n",
      "Multiple_Events      203160492\n",
      "SID                          0\n",
      "dtype: int64\n"
     ]
    }
   ],
   "source": [
    "# %%\n",
    "\n",
    "#Check for missing values\n",
    "missing_values = combined_data.isnull().sum().compute()\n",
    "print(\"\\nMissing Values:\")\n",
    "print(missing_values)"
   ]
  },
  {
   "cell_type": "code",
   "execution_count": null,
   "id": "06c2bca7-aa4a-4815-90f8-48ddc5d077d1",
   "metadata": {},
   "outputs": [
    {
     "name": "stderr",
     "output_type": "stream",
     "text": [
      "/Users/charanreddy/anaconda3/lib/python3.11/site-packages/dask/dataframe/core.py:8093: UserWarning: Insufficient elements for `head`. 5 elements requested, only 0 elements available. Try passing larger `npartitions` to `head`.\n",
      "  warnings.warn(\n"
     ]
    },
    {
     "data": {
      "text/html": [
       "<div>\n",
       "<style scoped>\n",
       "    .dataframe tbody tr th:only-of-type {\n",
       "        vertical-align: middle;\n",
       "    }\n",
       "\n",
       "    .dataframe tbody tr th {\n",
       "        vertical-align: top;\n",
       "    }\n",
       "\n",
       "    .dataframe thead th {\n",
       "        text-align: right;\n",
       "    }\n",
       "</style>\n",
       "<table border=\"1\" class=\"dataframe\">\n",
       "  <thead>\n",
       "    <tr style=\"text-align: right;\">\n",
       "      <th></th>\n",
       "      <th>TIMESTAMP</th>\n",
       "      <th>BVP</th>\n",
       "      <th>ACC_X</th>\n",
       "      <th>ACC_Y</th>\n",
       "      <th>ACC_Z</th>\n",
       "      <th>TEMP</th>\n",
       "      <th>EDA</th>\n",
       "      <th>HR</th>\n",
       "      <th>IBI</th>\n",
       "      <th>Sleep_Stage</th>\n",
       "      <th>Obstructive_Apnea</th>\n",
       "      <th>Central_Apnea</th>\n",
       "      <th>Hypopnea</th>\n",
       "      <th>Multiple_Events</th>\n",
       "      <th>SID</th>\n",
       "    </tr>\n",
       "  </thead>\n",
       "  <tbody>\n",
       "  </tbody>\n",
       "</table>\n",
       "</div>"
      ],
      "text/plain": [
       "Empty DataFrame\n",
       "Columns: [TIMESTAMP, BVP, ACC_X, ACC_Y, ACC_Z, TEMP, EDA, HR, IBI, Sleep_Stage, Obstructive_Apnea, Central_Apnea, Hypopnea, Multiple_Events, SID]\n",
       "Index: []"
      ]
     },
     "execution_count": 7,
     "metadata": {},
     "output_type": "execute_result"
    }
   ],
   "source": [
    "# %%\n",
    "\n",
    "filtered_data = combined_data[(combined_data[\"HR\"] == 0) | (combined_data[\"HR\"].isnull())]\n",
    "filtered_data.head()"
   ]
  },
  {
   "cell_type": "code",
   "execution_count": null,
   "id": "e2529e69-0783-4f44-aca6-5a5ecfb8c418",
   "metadata": {},
   "outputs": [
    {
     "name": "stdout",
     "output_type": "stream",
     "text": [
      "Total Missing IBI Values: 1004340\n",
      "Percentage of Missing IBI Values: 0.49%\n"
     ]
    }
   ],
   "source": [
    "# %%\n",
    "\n",
    "# Analyze IBI values\n",
    "# Percentage of missing IBI values\n",
    "missing_ibi = combined_data[\"IBI\"].isnull().sum().compute()\n",
    "total_rows = combined_data.shape[0].compute()\n",
    "missing_percentage = (missing_ibi / total_rows) * 100\n",
    "\n",
    "print(f\"Total Missing IBI Values: {missing_ibi}\")\n",
    "print(f\"Percentage of Missing IBI Values: {missing_percentage:.2f}%\")"
   ]
  },
  {
   "cell_type": "code",
   "execution_count": null,
   "id": "7e20ca5b-8145-4b91-9092-55f24b9c9f23",
   "metadata": {},
   "outputs": [
    {
     "name": "stdout",
     "output_type": "stream",
     "text": [
      "Total Missing: 1004340\n",
      "Longest Missing Streak in IBI: 2339317 timestamps\n"
     ]
    }
   ],
   "source": [
    "# %%\n",
    "\n",
    "# Analyze IBI values\n",
    "# Count consecutive missing values in IBI\n",
    "combined_data[\"IBI_Missing\"] = combined_data[\"IBI\"].isnull()\n",
    "\n",
    "# Group by consecutive missing streaks\n",
    "streaks = combined_data.groupby(combined_data[\"IBI_Missing\"].cumsum())\n",
    "\n",
    "# Get streak lengths for missing values\n",
    "missing_streak_lengths = streaks.size().compute()\n",
    "longest_missing_streak = missing_streak_lengths.max()\n",
    "\n",
    "print(f\"Total Missing: {len(missing_streak_lengths)}\")\n",
    "print(f\"Longest Missing Streak in IBI: {longest_missing_streak} timestamps\")"
   ]
  },
  {
   "cell_type": "code",
   "execution_count": null,
   "id": "2fc962f3-e17f-456b-8c4e-66231d6db33b",
   "metadata": {},
   "outputs": [
    {
     "data": {
      "text/html": [
       "<div>\n",
       "<style scoped>\n",
       "    .dataframe tbody tr th:only-of-type {\n",
       "        vertical-align: middle;\n",
       "    }\n",
       "\n",
       "    .dataframe tbody tr th {\n",
       "        vertical-align: top;\n",
       "    }\n",
       "\n",
       "    .dataframe thead th {\n",
       "        text-align: right;\n",
       "    }\n",
       "</style>\n",
       "<table border=\"1\" class=\"dataframe\">\n",
       "  <thead>\n",
       "    <tr style=\"text-align: right;\">\n",
       "      <th></th>\n",
       "      <th>TIMESTAMP</th>\n",
       "      <th>BVP</th>\n",
       "      <th>ACC_X</th>\n",
       "      <th>ACC_Y</th>\n",
       "      <th>ACC_Z</th>\n",
       "      <th>TEMP</th>\n",
       "      <th>EDA</th>\n",
       "      <th>HR</th>\n",
       "      <th>IBI</th>\n",
       "      <th>Sleep_Stage</th>\n",
       "      <th>Obstructive_Apnea</th>\n",
       "      <th>Central_Apnea</th>\n",
       "      <th>Hypopnea</th>\n",
       "      <th>Multiple_Events</th>\n",
       "      <th>SID</th>\n",
       "      <th>IBI_Missing</th>\n",
       "    </tr>\n",
       "  </thead>\n",
       "  <tbody>\n",
       "    <tr>\n",
       "      <th>0</th>\n",
       "      <td>0.000000</td>\n",
       "      <td>4.64</td>\n",
       "      <td>-69.0</td>\n",
       "      <td>10.0</td>\n",
       "      <td>4.0</td>\n",
       "      <td>32.77</td>\n",
       "      <td>0.101213</td>\n",
       "      <td>60.0</td>\n",
       "      <td>NaN</td>\n",
       "      <td>P</td>\n",
       "      <td>NaN</td>\n",
       "      <td>NaN</td>\n",
       "      <td>NaN</td>\n",
       "      <td>NaN</td>\n",
       "      <td>S083</td>\n",
       "      <td>True</td>\n",
       "    </tr>\n",
       "    <tr>\n",
       "      <th>1</th>\n",
       "      <td>0.015625</td>\n",
       "      <td>6.29</td>\n",
       "      <td>-69.0</td>\n",
       "      <td>10.0</td>\n",
       "      <td>4.0</td>\n",
       "      <td>32.77</td>\n",
       "      <td>0.101213</td>\n",
       "      <td>60.0</td>\n",
       "      <td>NaN</td>\n",
       "      <td>P</td>\n",
       "      <td>NaN</td>\n",
       "      <td>NaN</td>\n",
       "      <td>NaN</td>\n",
       "      <td>NaN</td>\n",
       "      <td>S083</td>\n",
       "      <td>True</td>\n",
       "    </tr>\n",
       "    <tr>\n",
       "      <th>2</th>\n",
       "      <td>0.031250</td>\n",
       "      <td>7.86</td>\n",
       "      <td>-68.0</td>\n",
       "      <td>11.0</td>\n",
       "      <td>2.0</td>\n",
       "      <td>32.77</td>\n",
       "      <td>0.101213</td>\n",
       "      <td>60.0</td>\n",
       "      <td>NaN</td>\n",
       "      <td>P</td>\n",
       "      <td>NaN</td>\n",
       "      <td>NaN</td>\n",
       "      <td>NaN</td>\n",
       "      <td>NaN</td>\n",
       "      <td>S083</td>\n",
       "      <td>True</td>\n",
       "    </tr>\n",
       "    <tr>\n",
       "      <th>3</th>\n",
       "      <td>0.046875</td>\n",
       "      <td>9.19</td>\n",
       "      <td>-68.0</td>\n",
       "      <td>11.0</td>\n",
       "      <td>2.0</td>\n",
       "      <td>32.77</td>\n",
       "      <td>0.101213</td>\n",
       "      <td>60.0</td>\n",
       "      <td>NaN</td>\n",
       "      <td>P</td>\n",
       "      <td>NaN</td>\n",
       "      <td>NaN</td>\n",
       "      <td>NaN</td>\n",
       "      <td>NaN</td>\n",
       "      <td>S083</td>\n",
       "      <td>True</td>\n",
       "    </tr>\n",
       "    <tr>\n",
       "      <th>4</th>\n",
       "      <td>0.062500</td>\n",
       "      <td>10.13</td>\n",
       "      <td>-64.0</td>\n",
       "      <td>10.0</td>\n",
       "      <td>1.0</td>\n",
       "      <td>32.77</td>\n",
       "      <td>0.101213</td>\n",
       "      <td>60.0</td>\n",
       "      <td>NaN</td>\n",
       "      <td>P</td>\n",
       "      <td>NaN</td>\n",
       "      <td>NaN</td>\n",
       "      <td>NaN</td>\n",
       "      <td>NaN</td>\n",
       "      <td>S083</td>\n",
       "      <td>True</td>\n",
       "    </tr>\n",
       "  </tbody>\n",
       "</table>\n",
       "</div>"
      ],
      "text/plain": [
       "   TIMESTAMP    BVP  ACC_X  ACC_Y  ACC_Z   TEMP       EDA    HR  IBI  \\\n",
       "0   0.000000   4.64  -69.0   10.0    4.0  32.77  0.101213  60.0  NaN   \n",
       "1   0.015625   6.29  -69.0   10.0    4.0  32.77  0.101213  60.0  NaN   \n",
       "2   0.031250   7.86  -68.0   11.0    2.0  32.77  0.101213  60.0  NaN   \n",
       "3   0.046875   9.19  -68.0   11.0    2.0  32.77  0.101213  60.0  NaN   \n",
       "4   0.062500  10.13  -64.0   10.0    1.0  32.77  0.101213  60.0  NaN   \n",
       "\n",
       "  Sleep_Stage  Obstructive_Apnea  Central_Apnea  Hypopnea  Multiple_Events  \\\n",
       "0           P                NaN            NaN       NaN              NaN   \n",
       "1           P                NaN            NaN       NaN              NaN   \n",
       "2           P                NaN            NaN       NaN              NaN   \n",
       "3           P                NaN            NaN       NaN              NaN   \n",
       "4           P                NaN            NaN       NaN              NaN   \n",
       "\n",
       "    SID  IBI_Missing  \n",
       "0  S083         True  \n",
       "1  S083         True  \n",
       "2  S083         True  \n",
       "3  S083         True  \n",
       "4  S083         True  "
      ]
     },
     "execution_count": 10,
     "metadata": {},
     "output_type": "execute_result"
    }
   ],
   "source": [
    "# %%\n",
    "\n",
    "combined_data.head()"
   ]
  },
  {
   "cell_type": "code",
   "execution_count": null,
   "id": "26b06505-a345-4d79-983c-a14d44196c2b",
   "metadata": {},
   "outputs": [
    {
     "name": "stdout",
     "output_type": "stream",
     "text": [
      "\n",
      "Missing IBI Counts by SID and Sleep Stage:\n",
      "SID   Sleep_Stage\n",
      "S002  P               1488\n",
      "S003  P              20411\n",
      "S004  P               5902\n",
      "S005  P                148\n",
      "S006  P               1185\n",
      "                     ...  \n",
      "S099  P               3256\n",
      "S100  P               7212\n",
      "S101  P               7661\n",
      "S102  P              56282\n",
      "S103  P              58166\n",
      "Length: 100, dtype: int64\n"
     ]
    }
   ],
   "source": [
    "# %%\n",
    "\n",
    "# Extract SIDs and Sleep Stages for missing IBI\n",
    "missing_ibi_data = combined_data[combined_data[\"IBI\"].isnull()]\n",
    "missing_ibi_details = missing_ibi_data[[\"SID\", \"Sleep_Stage\"]].compute()\n",
    "\n",
    "# Analyze missing IBI by SID and Sleep Stage\n",
    "missing_ibi_grouped = missing_ibi_details.groupby([\"SID\", \"Sleep_Stage\"]).size()\n",
    "print(\"\\nMissing IBI Counts by SID and Sleep Stage:\")\n",
    "print(missing_ibi_grouped)\n",
    "# Looks like if Stage is \"P\" then IBI is NaN"
   ]
  },
  {
   "cell_type": "code",
   "execution_count": null,
   "id": "f37a780f-e215-41e1-9b44-3d435f5dded3",
   "metadata": {},
   "outputs": [
    {
     "name": "stdout",
     "output_type": "stream",
     "text": [
      "\n",
      "Counts of Sleep Stages in Missing IBI Data:\n",
      "Sleep_Stage\n",
      "P    1004340\n",
      "dtype: int64\n"
     ]
    }
   ],
   "source": [
    "# %%\n",
    "\n",
    "#Count sleep stage in missing IBI data\n",
    "sleep_stage_counts = missing_ibi_data.groupby(\"Sleep_Stage\").size().compute()\n",
    "\n",
    "# Display the counts\n",
    "print(\"\\nCounts of Sleep Stages in Missing IBI Data:\")\n",
    "print(sleep_stage_counts)"
   ]
  },
  {
   "cell_type": "code",
   "execution_count": null,
   "id": "0f34f580-71f8-4271-acc7-9d5dc3c1ab2a",
   "metadata": {},
   "outputs": [
    {
     "name": "stdout",
     "output_type": "stream",
     "text": [
      "Number of 'P' sleep stages in the combined data: 49443712\n"
     ]
    }
   ],
   "source": [
    "# %%\n",
    "\n",
    "# Count number of \"P\" sleep stages in the dataset\n",
    "# Count occurrences of 'P' in Sleep_Stage\n",
    "p_count = combined_data[combined_data[\"Sleep_Stage\"] == \"P\"].shape[0].compute()\n",
    "\n",
    "print(f\"Number of 'P' sleep stages in the combined data: {p_count}\")"
   ]
  },
  {
   "cell_type": "code",
   "execution_count": null,
   "id": "48e25c02-1973-4aa0-afc7-d4b54e2a1a2e",
   "metadata": {},
   "outputs": [
    {
     "data": {
      "image/png": "[encoded data removed]",
      "text/plain": [
       "<Figure size 640x480 with 1 Axes>"
      ]
     },
     "metadata": {},
     "output_type": "display_data"
    }
   ],
   "source": [
    "# %%\n",
    "\n",
    "import matplotlib.pyplot as plt\n",
    "import seaborn as sns\n",
    "\n",
    "# Filter valid IBI rows in the 'P' sleep stage\n",
    "valid_ibi_p_stage = combined_data[(combined_data[\"Sleep_Stage\"] == \"P\") & (~combined_data[\"IBI\"].isnull())].compute()\n",
    "\n",
    "# Plot distribution of valid IBI in the 'P' stage\n",
    "sns.histplot(valid_ibi_p_stage[\"IBI\"], kde=True, bins=50)\n",
    "plt.title(\"Distribution of Valid IBI in 'P' Sleep Stage\")\n",
    "plt.xlabel(\"IBI (seconds)\")\n",
    "plt.ylabel(\"Frequency\")\n",
    "plt.show()"
   ]
  },
  {
   "cell_type": "code",
   "execution_count": null,
   "id": "def43eed-75a5-45be-a0cf-37282b77a8e9",
   "metadata": {},
   "outputs": [
    {
     "data": {
      "image/png": "[encoded data removed]",
      "text/plain": [
       "<Figure size 1000x600 with 1 Axes>"
      ]
     },
     "metadata": {},
     "output_type": "display_data"
    }
   ],
   "source": [
    "# %%\n",
    "\n",
    "# Filter rows where Sleep Stage is 'P' and IBI is missing\n",
    "missing_ibi_p_stage = combined_data[(combined_data[\"Sleep_Stage\"] == \"P\") & (combined_data[\"IBI\"].isnull())].compute()\n",
    "\n",
    "# Plot missing IBI over time (using TIMESTAMP)\n",
    "plt.figure(figsize=(10, 6))\n",
    "sns.scatterplot(x=missing_ibi_p_stage[\"TIMESTAMP\"], y=missing_ibi_p_stage[\"IBI_Missing\"], alpha=0.5)\n",
    "plt.title(\"Missing IBI in 'P' Sleep Stage Over Time\")\n",
    "plt.xlabel(\"Timestamp\")\n",
    "plt.ylabel(\"IBI Missing (1 = Missing)\")\n",
    "plt.show()"
   ]
  },
  {
   "cell_type": "code",
   "execution_count": null,
   "id": "509b5abb-ab77-4e10-97de-52006fe752b5",
   "metadata": {},
   "outputs": [
    {
     "name": "stderr",
     "output_type": "stream",
     "text": [
      "No artists with labels found to put in legend.  Note that artists whose label start with an underscore are ignored when legend() is called with no argument.\n"
     ]
    },
    {
     "data": {
      "image/png": "[encoded data removed]",
      "text/plain": [
       "<Figure size 1200x800 with 1 Axes>"
      ]
     },
     "metadata": {},
     "output_type": "display_data"
    }
   ],
   "source": [
    "# %%\n",
    "\n",
    "# Select 5 specific SIDs (replace these with actual SIDs from your dataset)\n",
    "SelS001 = combined_data[combined_data[\"SID\"] == \"S001\"].compute()\n",
    "\n",
    "\n",
    "# Plot IBI vs. Time for each SID\n",
    "plt.figure(figsize=(12, 8))\n",
    "sns.lineplot(data=SelS001, x=\"TIMESTAMP\", y=\"IBI\", hue=\"SID\", marker=\"o\", alpha=0.7)\n",
    "plt.title(\"IBI vs. Time for Selected SIDs\")\n",
    "plt.xlabel(\"Timestamp\")\n",
    "plt.ylabel(\"IBI (seconds)\")\n",
    "plt.legend(title=\"SID\", loc=\"best\")\n",
    "plt.show()\n",
    "# we can "
   ]
  },
  {
   "cell_type": "code",
   "execution_count": null,
   "id": "ac0afd1a-636d-4f59-9bb4-43a1454bd3f9",
   "metadata": {},
   "outputs": [
    {
     "name": "stdout",
     "output_type": "stream",
     "text": [
      "     SID  Total_NaN  Longest_NaN_Streak  NaNs_Only_At_Start\n",
      "0   S083      37393                   1                True\n",
      "1   S029       1866                   1                True\n",
      "2   S084        230                   1                True\n",
      "3   S091        620                   1                True\n",
      "4   S096       1293                   1                True\n",
      "..   ...        ...                 ...                 ...\n",
      "95  S094      28032                   1                True\n",
      "96  S093       4085                   1                True\n",
      "97  S039      25584                   1                True\n",
      "98  S008       1053                   1                True\n",
      "99  S048        313                   1                True\n",
      "\n",
      "[100 rows x 4 columns]\n"
     ]
    }
   ],
   "source": [
    "# %%\n",
    "\n",
    "# Analyze NaN patterns for IBI for each SID\n",
    "sids = combined_data[\"SID\"].unique().compute()\n",
    "\n",
    "nan_pattern_results = []\n",
    "\n",
    "for sid in sids:\n",
    "    # Filter data for the current SID\n",
    "    sid_data = combined_data[combined_data[\"SID\"] == sid].compute()\n",
    "    \n",
    "    # Add a flag for missing IBI\n",
    "    sid_data[\"IBI_Missing\"] = sid_data[\"IBI\"].isnull()\n",
    "    \n",
    "    # Find the first non-missing IBI timestamp\n",
    "    first_non_missing_row = sid_data[~sid_data[\"IBI_Missing\"]]\n",
    "    if not first_non_missing_row.empty:\n",
    "        first_non_missing_time = first_non_missing_row[\"TIMESTAMP\"].iloc[0]\n",
    "    else:\n",
    "        first_non_missing_time = None\n",
    "\n",
    "    # Check if NaNs are only at the start\n",
    "    if first_non_missing_time is None:\n",
    "        only_start_missing = True  \n",
    "    else:\n",
    "        only_start_missing = (sid_data[sid_data[\"IBI_Missing\"]][\"TIMESTAMP\"] < first_non_missing_time).all()\n",
    "\n",
    "    # Calculate the longest NaN streak\n",
    "    streaks = sid_data[\"IBI_Missing\"].cumsum()\n",
    "    streak_lengths = sid_data.groupby(streaks)[\"IBI_Missing\"].sum()\n",
    "    \n",
    "    nan_pattern_results.append({\n",
    "        \"SID\": sid,\n",
    "        \"Total_NaN\": sid_data[\"IBI_Missing\"].sum(),\n",
    "        \"Longest_NaN_Streak\": streak_lengths.max(),\n",
    "        \"NaNs_Only_At_Start\": only_start_missing\n",
    "    })\n",
    "\n",
    "# Convert results to a DataFrame\n",
    "import pandas as pd\n",
    "nan_pattern_df = pd.DataFrame(nan_pattern_results)\n",
    "\n",
    "# Display the results\n",
    "print(nan_pattern_df)"
   ]
  },
  {
   "cell_type": "code",
   "execution_count": null,
   "id": "d7712683-d163-47b4-a268-2f53f59c6aaf",
   "metadata": {},
   "outputs": [
    {
     "name": "stdout",
     "output_type": "stream",
     "text": [
      "S035    689344\n",
      "S088    675328\n",
      "S071    669440\n",
      "S028    667584\n",
      "S046    663872\n",
      "         ...  \n",
      "S014    303552\n",
      "S034    298048\n",
      "S044    288640\n",
      "S092    279040\n",
      "S020    246336\n",
      "Name: SID, Length: 100, dtype: int64\n"
     ]
    }
   ],
   "source": [
    "# %%\n",
    "\n",
    "print(combined_data[combined_data[\"Sleep_Stage\"] == \"P\"][\"SID\"].value_counts().compute())"
   ]
  },
  {
   "cell_type": "code",
   "execution_count": null,
   "id": "c06d188b-f634-4e3a-9ee7-21496d3962c1",
   "metadata": {},
   "outputs": [
    {
     "name": "stdout",
     "output_type": "stream",
     "text": [
      "HR      0.0\n",
      "BVP     0.0\n",
      "EDA     0.0\n",
      "TEMP    0.0\n",
      "dtype: float64\n"
     ]
    }
   ],
   "source": [
    "#%%\n",
    "\n",
    "# Check if \"Missing\" stages align with sensor dropouts\n",
    "missing_signal = combined_data[combined_data[\"Sleep_Stage\"] == \"Missing\"]\n",
    "print(missing_signal[[\"HR\", \"BVP\", \"EDA\", \"TEMP\"]].isnull().mean().compute())"
   ]
  },
  {
   "cell_type": "code",
   "execution_count": null,
   "id": "0ec04c9d-d711-4be9-bdd7-4c786f3f7152",
   "metadata": {},
   "outputs": [
    {
     "name": "stdout",
     "output_type": "stream",
     "text": [
      "Missing Values in 'P' Stage:\n",
      "       Missing_Count  Missing_Percent (%)\n",
      "HR               0.0                 0.00\n",
      "BVP              0.0                 0.00\n",
      "EDA              0.0                 0.00\n",
      "TEMP             0.0                 0.00\n",
      "IBI        1004340.0                 2.03\n",
      "ACC_X            0.0                 0.00\n",
      "ACC_Y            0.0                 0.00\n",
      "ACC_Z            0.0                 0.00\n"
     ]
    }
   ],
   "source": [
    "#%%\n",
    "\n",
    "# Check if P stage has any  other columns missing\n",
    "# Filter rows where Sleep_Stage is \"P\"\n",
    "p_stage_data = combined_data[combined_data[\"Sleep_Stage\"] == \"P\"]\n",
    "\n",
    "# Check if \"P\" exists\n",
    "if p_stage_data.shape[0].compute() == 0:\n",
    "    print(\"No 'P' stage data found.\")\n",
    "else:\n",
    "    # Compute missing values for key columns\n",
    "    missing_values = p_stage_data[[\"HR\", \"BVP\", \"EDA\", \"TEMP\", \"IBI\", \"ACC_X\", \"ACC_Y\", \"ACC_Z\"]].isnull().sum().compute()\n",
    "    missing_pct = (missing_values / p_stage_data.shape[0].compute()) * 100\n",
    "\n",
    "    # Create summary table\n",
    "    missing_summary = pd.DataFrame({\n",
    "        \"Missing_Count\": missing_values,\n",
    "        \"Missing_Percent (%)\": missing_pct.round(2)\n",
    "    })\n",
    "    print(\"Missing Values in 'P' Stage:\")\n",
    "    print(missing_summary)"
   ]
  },
  {
   "cell_type": "code",
   "execution_count": null,
   "id": "6409c248-c72c-4506-b19a-8c18f4424df5",
   "metadata": {},
   "outputs": [
    {
     "name": "stdout",
     "output_type": "stream",
     "text": [
      "N2         76978529\n",
      "P          49443712\n",
      "W          38678450\n",
      "N1         16965129\n",
      "R          16152968\n",
      "N3          5191680\n",
      "Missing      120960\n",
      "Name: Sleep_Stage, dtype: int64\n"
     ]
    },
    {
     "data": {
      "image/png": "[encoded data removed]",
      "text/plain": [
       "<Figure size 1000x600 with 1 Axes>"
      ]
     },
     "metadata": {},
     "output_type": "display_data"
    }
   ],
   "source": [
    "#%%\n",
    "\n",
    "sleep_stage_counts = combined_data[\"Sleep_Stage\"].value_counts().compute()\n",
    "print(sleep_stage_counts)\n",
    "plt.figure(figsize=(10,6))\n",
    "sns.barplot(x=sleep_stage_counts.index, y=sleep_stage_counts.values)\n",
    "plt.title(\"Sleep Stage Distribution\")\n",
    "plt.show()"
   ]
  },
  {
   "cell_type": "markdown",
   "id": "5717bfb7-5614-47b5-9726-f18dfe34043a",
   "metadata": {},
   "source": [
    "# %%[markdown]\n",
    "\n",
    " There is 120960 missing stages nad there is significatly large class imablnce in the data"
   ]
  },
  {
   "cell_type": "markdown",
   "id": "a2c783ef-36f9-4af1-80a2-021b4e75925d",
   "metadata": {},
   "source": [
    "#%%[markdown]\n",
    "\n",
    " Based on the EDA of P and infromation from the https://physionet.org/content/dreamt/1.0.1/ we can assume P is purely prepartional stage and we can drop the rows with P stage(can not assume as wake stage)"
   ]
  },
  {
   "cell_type": "code",
   "execution_count": null,
   "id": "2cec5fdb-7587-4ee2-b41e-2d7430d9b620",
   "metadata": {},
   "outputs": [],
   "source": [
    "#%%\n",
    "\n",
    "# Drop rows with \"P\" sleep stage\n",
    "combined_data = combined_data[combined_data[\"Sleep_Stage\"] != \"P\"]"
   ]
  },
  {
   "cell_type": "code",
   "execution_count": null,
   "id": "82f41216-19f8-4a0b-ac0c-730551b016e2",
   "metadata": {},
   "outputs": [
    {
     "name": "stdout",
     "output_type": "stream",
     "text": [
      "Index(['TIMESTAMP', 'BVP', 'ACC_X', 'ACC_Y', 'ACC_Z', 'TEMP', 'EDA', 'HR',\n",
      "       'IBI', 'Sleep_Stage', 'Obstructive_Apnea', 'Central_Apnea', 'Hypopnea',\n",
      "       'Multiple_Events', 'SID'],\n",
      "      dtype='object')\n"
     ]
    }
   ],
   "source": [
    "#%%\n",
    "\n",
    "# Drop unrelavent columns\n",
    "columns_to_drop = [\"Obstructive_Apnea\", \"Central_Apnea\", \"Hypopnea\", \"Multiple_Events\"]\n",
    "combined_data = combined_data.drop(columns=columns_to_drop)\n",
    "print(filtered_data.columns)"
   ]
  },
  {
   "cell_type": "code",
   "execution_count": null,
   "id": "c4a93692-9c72-48d9-b9d2-75b4b2f5e2fd",
   "metadata": {},
   "outputs": [
    {
     "name": "stdout",
     "output_type": "stream",
     "text": [
      "TIMESTAMP      0\n",
      "BVP            0\n",
      "ACC_X          0\n",
      "ACC_Y          0\n",
      "ACC_Z          0\n",
      "TEMP           0\n",
      "EDA            0\n",
      "HR             0\n",
      "IBI            0\n",
      "Sleep_Stage    0\n",
      "SID            0\n",
      "IBI_Missing    0\n",
      "dtype: int64\n"
     ]
    }
   ],
   "source": [
    "#%%\n",
    "\n",
    "print(combined_data.isnull().sum().compute())"
   ]
  },
  {
   "cell_type": "markdown",
   "id": "459ab27a-740c-461d-a9f7-0e778576fcc2",
   "metadata": {},
   "source": [
    "#%%[markdown]\n",
    "\n",
    " There is no missing IBI values after droping P stage"
   ]
  },
  {
   "cell_type": "code",
   "execution_count": null,
   "id": "359993d9-e11b-4a84-aa0c-b924850737ba",
   "metadata": {},
   "outputs": [],
   "source": [
    "#%%\n",
    "\n",
    "combined_data = combined_data[combined_data[\"Sleep_Stage\"] != \"Missing\"]"
   ]
  },
  {
   "cell_type": "code",
   "execution_count": null,
   "id": "a59cba59-c1dc-41b8-8808-ae7e64e573d6",
   "metadata": {},
   "outputs": [
    {
     "name": "stdout",
     "output_type": "stream",
     "text": [
      "N2    76978529\n",
      "W     38678450\n",
      "N1    16965129\n",
      "R     16152968\n",
      "N3     5191680\n",
      "Name: Sleep_Stage, dtype: int64\n"
     ]
    },
    {
     "data": {
      "text/plain": [
       "<function matplotlib.pyplot.show(close=None, block=None)>"
      ]
     },
     "execution_count": 26,
     "metadata": {},
     "output_type": "execute_result"
    },
    {
     "data": {
      "image/png": "[encoded data removed]",
      "text/plain": [
       "<Figure size 1000x600 with 1 Axes>"
      ]
     },
     "metadata": {},
     "output_type": "display_data"
    }
   ],
   "source": [
    "# %%\n",
    "\n",
    "sleep_stage_counts = combined_data[\"Sleep_Stage\"].value_counts().compute()\n",
    "print(sleep_stage_counts)\n",
    "plt.figure(figsize=(10,6))\n",
    "sns.barplot(x=sleep_stage_counts.index, y=sleep_stage_counts.values)\n",
    "plt.title(\"Sleep Stage Distribution\")\n",
    "plt.show"
   ]
  },
  {
   "cell_type": "code",
   "execution_count": null,
   "id": "6348d693-067b-4cb2-b790-a74ff61cde46",
   "metadata": {},
   "outputs": [
    {
     "name": "stdout",
     "output_type": "stream",
     "text": [
      "Saved\n"
     ]
    }
   ],
   "source": [
    "# %%\n",
    "\n",
    "processed_data = combined_data\n",
    "output_file = (\"Processed_Data.csv\")\n",
    "processed_data.to_csv(output_file, single_file=True, index=False)\n",
    "print(f\"Saved\")"
   ]
  }
 ],
 "metadata": {
  "language_info": {
   "codemirror_mode": {
    "name": "ipython",
    "version": 3
   },
   "file_extension": ".py",
   "mimetype": "text/x-python",
   "name": "python",
   "nbconvert_exporter": "python",
   "pygments_lexer": "ipython3",
   "version": 3
  }
 },
 "nbformat": 4,
 "nbformat_minor": 2
}
